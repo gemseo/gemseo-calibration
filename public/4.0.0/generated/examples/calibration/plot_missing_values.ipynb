{
  "cells": [
    {
      "cell_type": "code",
      "execution_count": null,
      "metadata": {
        "collapsed": false
      },
      "outputs": [],
      "source": [
        "%matplotlib inline"
      ]
    },
    {
      "cell_type": "markdown",
      "metadata": {},
      "source": [
        "# Observations with missing values.\n\nThis example illustrates the calibration of a discipline\nwith two poorly known parameters and from observations with missing values.\n"
      ]
    },
    {
      "cell_type": "code",
      "execution_count": null,
      "metadata": {
        "collapsed": false
      },
      "outputs": [],
      "source": [
        "from __future__ import annotations\n\nfrom gemseo.algos.parameter_space import ParameterSpace\nfrom gemseo.datasets.dataset import Dataset\nfrom gemseo.disciplines.analytic import AnalyticDiscipline\nfrom numpy import array\nfrom numpy import nan\n\nfrom gemseo_calibration.metrics.settings import CalibrationMetricSettings\nfrom gemseo_calibration.scenario import CalibrationScenario\n\nmodel = AnalyticDiscipline({\"y\": \"a*x\", \"z\": \"b*x\"}, name=\"model\")\n\nprior = ParameterSpace()\nprior.add_variable(\"a\", lower_bound=0.0, upper_bound=10.0, value=0.0)\nprior.add_variable(\"b\", lower_bound=0.0, upper_bound=10.0, value=0.0)\n\ndata = array([\n    [1, 1.0, 2.0, nan],\n    [2, 1.0, nan, 3.0],\n    [3, 2.0, 4.0, nan],\n    [4, 2.0, nan, 6.0],\n])\nreference_data = Dataset.from_array(\n    data,\n    variable_names=[\"index\", \"x\", \"y\", \"z\"],\n    variable_names_to_group_names={\n        \"index\": \"inputs\",\n        \"x\": \"inputs\",\n        \"y\": \"outputs\",\n        \"z\": \"outputs\",\n    },\n).to_dict_of_arrays(False)\n\nmetric_settings = [\n    CalibrationMetricSettings(output_name=\"y\", metric_name=\"MSE\"),\n    CalibrationMetricSettings(output_name=\"z\", metric_name=\"MSE\"),\n]\ncalibration = CalibrationScenario(model, \"x\", metric_settings, prior)\ncalibration.execute(\n    algo_name=\"NLOPT_COBYLA\", reference_data=reference_data, max_iter=100\n)"
      ]
    }
  ],
  "metadata": {
    "kernelspec": {
      "display_name": "Python 3",
      "language": "python",
      "name": "python3"
    },
    "language_info": {
      "codemirror_mode": {
        "name": "ipython",
        "version": 3
      },
      "file_extension": ".py",
      "mimetype": "text/x-python",
      "name": "python",
      "nbconvert_exporter": "python",
      "pygments_lexer": "ipython3",
      "version": "3.12.10"
    }
  },
  "nbformat": 4,
  "nbformat_minor": 0
}