{
  "cells": [
    {
      "cell_type": "code",
      "execution_count": null,
      "metadata": {
        "collapsed": false
      },
      "outputs": [],
      "source": [
        "%matplotlib inline"
      ]
    },
    {
      "cell_type": "markdown",
      "metadata": {},
      "source": [
        "# Functional output discretized on a mesh.\n\nThis example illustrates the calibration of a discipline\nwith two poorly known parameters and a functional output discretized on a mesh.\n"
      ]
    },
    {
      "cell_type": "code",
      "execution_count": null,
      "metadata": {
        "collapsed": false
      },
      "outputs": [],
      "source": [
        "from __future__ import annotations\n\nfrom typing import TYPE_CHECKING\n\nfrom gemseo import sample_disciplines\nfrom gemseo.algos.design_space import DesignSpace\nfrom gemseo.algos.parameter_space import ParameterSpace\nfrom gemseo.core.discipline.discipline import Discipline\nfrom numpy import array\nfrom numpy import linspace\n\nfrom gemseo_calibration.metrics.settings import CalibrationMetricSettings\nfrom gemseo_calibration.scenario import CalibrationScenario\n\nif TYPE_CHECKING:\n    from gemseo.typing import StrKeyMapping"
      ]
    },
    {
      "cell_type": "markdown",
      "metadata": {},
      "source": [
        "Let us consider a model $f(x)=[ax,\\gamma bx, \\gamma]$\nfrom $\\mathbb{R}$ to $\\mathbb{R}^{11}$\nwhere $\\gamma=[0,0.25,0.5,0.75,1.]$ plays the role of a mesh.\nIn practice,\nwe could imagine a model having an output related to a mesh $\\gamma$\nwhose size and nodes would depend on the model inputs.\nThus, this mesh is also an output of the model.\n\n"
      ]
    },
    {
      "cell_type": "code",
      "execution_count": null,
      "metadata": {
        "collapsed": false
      },
      "outputs": [],
      "source": [
        "class Model(Discipline):\n    def __init__(self) -> None:\n        super().__init__()\n        self.input_grammar.update_from_names([\"x\", \"a\", \"b\"])\n        self.output_grammar.update_from_names([\"y\", \"z\", \"mesh\"])\n        self.default_input_data = {\n            \"x\": array([0.0]),\n            \"a\": array([0.0]),\n            \"b\": array([0.0]),\n        }\n\n    def _run(self, input_data: StrKeyMapping) -> StrKeyMapping | None:\n        x_input = input_data[\"x\"]\n        a_parameter = input_data[\"a\"]\n        b_parameter = input_data[\"b\"]\n        y_output = a_parameter * x_input\n        z_mesh = linspace(0, 1, 5)\n        z_output = b_parameter * x_input[0] * z_mesh\n        return {\"y\": y_output, \"z\": z_output, \"mesh\": z_mesh}"
      ]
    },
    {
      "cell_type": "markdown",
      "metadata": {},
      "source": [
        "This is a model of our reference data source,\nwhich is a kind of oracle providing input-output data\nwithout the mathematical relationship behind it:\n\n"
      ]
    },
    {
      "cell_type": "code",
      "execution_count": null,
      "metadata": {
        "collapsed": false
      },
      "outputs": [],
      "source": [
        "class ReferenceModel(Discipline):\n    def __init__(self) -> None:\n        super().__init__()\n        self.input_grammar.update_from_names([\"x\"])\n        self.output_grammar.update_from_names([\"y\", \"z\", \"mesh\"])\n        self.default_input_data = {\"x\": array([0.0])}\n\n    def _run(self, input_data: StrKeyMapping) -> StrKeyMapping | None:\n        x_input = input_data[\"x\"]\n        y_output = 2 * x_input\n        z_mesh = linspace(0, 1, 5)\n        z_output = 3 * x_input[0] * z_mesh\n        return {\"y\": y_output, \"z\": z_output, \"mesh\": z_mesh}"
      ]
    },
    {
      "cell_type": "markdown",
      "metadata": {},
      "source": [
        "However in this pedagogical example,\nthe mathematical relationship is known, and we can see that\nthe parameters $a$ and $b$ must be equal to 2 and 3 respectively\nso that the model and the reference are identical.\n\nIn the following,\nwe will try to find these values from several information sources.\n\n"
      ]
    },
    {
      "cell_type": "markdown",
      "metadata": {},
      "source": [
        "Firstly,\nwe have prior knowledge of the parameter values, that is $[a,b]\\in[0,10]^2$:\n\n"
      ]
    },
    {
      "cell_type": "code",
      "execution_count": null,
      "metadata": {
        "collapsed": false
      },
      "outputs": [],
      "source": [
        "prior = ParameterSpace()\nprior.add_variable(\"a\", lower_bound=0.0, upper_bound=10.0, value=0.0)\nprior.add_variable(\"b\", lower_bound=0.0, upper_bound=10.0, value=0.0)"
      ]
    },
    {
      "cell_type": "markdown",
      "metadata": {},
      "source": [
        "Secondly,\ngiven an input space $[0,3]$:\n\n"
      ]
    },
    {
      "cell_type": "code",
      "execution_count": null,
      "metadata": {
        "collapsed": false
      },
      "outputs": [],
      "source": [
        "input_space = DesignSpace()\ninput_space.add_variable(\"x\", lower_bound=0.0, upper_bound=3.0)"
      ]
    },
    {
      "cell_type": "markdown",
      "metadata": {},
      "source": [
        "we generate reference output data by sampling the reference discipline:\n\n"
      ]
    },
    {
      "cell_type": "code",
      "execution_count": null,
      "metadata": {
        "collapsed": false
      },
      "outputs": [],
      "source": [
        "reference = ReferenceModel()\nreference_dataset = sample_disciplines(\n    [reference],\n    input_space,\n    [\"mesh\", \"y\", \"z\"],\n    algo_name=\"CustomDOE\",\n    samples=array([[1.0], [2.0]]),\n)\nreference_data = reference_dataset.to_dict_of_arrays(False)"
      ]
    },
    {
      "cell_type": "markdown",
      "metadata": {},
      "source": [
        "From these information sources,\nwe can build and execute a\n[CalibrationScenario][gemseo_calibration.scenario.CalibrationScenario]\nto find the values of the parameters $a$ and $b$\nwhich minimize a\n[BaseCalibrationMetric][gemseo_calibration.metrics.base_calibration_metric.BaseCalibrationMetric]\ntaking into account the outputs $y$ and $z$:\n\n"
      ]
    },
    {
      "cell_type": "code",
      "execution_count": null,
      "metadata": {
        "collapsed": false
      },
      "outputs": [],
      "source": [
        "model = Model()\nmetric_settings = [\n    CalibrationMetricSettings(output_name=\"y\", metric_name=\"MSE\"),\n    CalibrationMetricSettings(output_name=\"z\", metric_name=\"ISE\", mesh_name=\"mesh\"),\n]\ncalibration = CalibrationScenario(model, \"x\", metric_settings, prior)\ncalibration.execute(\n    algo_name=\"NLOPT_COBYLA\", reference_data=reference_data, max_iter=100\n)"
      ]
    },
    {
      "cell_type": "markdown",
      "metadata": {},
      "source": [
        "Lastly,\nwe can check that the calibrated parameters are very close to the expected ones:\n\n"
      ]
    },
    {
      "cell_type": "code",
      "execution_count": null,
      "metadata": {
        "collapsed": false
      },
      "outputs": [],
      "source": [
        "calibration.optimization_result.x_opt"
      ]
    },
    {
      "cell_type": "markdown",
      "metadata": {},
      "source": [
        "and plot an optimization history view:\n\n"
      ]
    },
    {
      "cell_type": "code",
      "execution_count": null,
      "metadata": {
        "collapsed": false
      },
      "outputs": [],
      "source": [
        "calibration.post_process(post_name=\"OptHistoryView\", save=False, show=True)"
      ]
    },
    {
      "cell_type": "markdown",
      "metadata": {},
      "source": [
        "as well as the model data versus the reference ones,\nbefore and after the calibration:\n\n"
      ]
    },
    {
      "cell_type": "code",
      "execution_count": null,
      "metadata": {
        "collapsed": false
      },
      "outputs": [],
      "source": [
        "calibration.post_process(post_name=\"DataVersusModel\", output=\"y\", save=False, show=True)"
      ]
    }
  ],
  "metadata": {
    "kernelspec": {
      "display_name": "Python 3",
      "language": "python",
      "name": "python3"
    },
    "language_info": {
      "codemirror_mode": {
        "name": "ipython",
        "version": 3
      },
      "file_extension": ".py",
      "mimetype": "text/x-python",
      "name": "python",
      "nbconvert_exporter": "python",
      "pygments_lexer": "ipython3",
      "version": "3.9.21"
    }
  },
  "nbformat": 4,
  "nbformat_minor": 0
}