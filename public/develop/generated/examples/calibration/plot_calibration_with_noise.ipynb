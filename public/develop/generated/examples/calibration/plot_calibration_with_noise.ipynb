{
  "cells": [
    {
      "cell_type": "code",
      "execution_count": null,
      "metadata": {
        "collapsed": false
      },
      "outputs": [],
      "source": [
        "%matplotlib inline"
      ]
    },
    {
      "cell_type": "markdown",
      "metadata": {},
      "source": [
        "# Calibration scenario with noised observations.\n"
      ]
    },
    {
      "cell_type": "markdown",
      "metadata": {},
      "source": [
        "Let us consider a function $f(x)=ax^2+bx+c$\nfrom $\\mathbb{R}$ to $\\mathbb{R}$:\n\n"
      ]
    },
    {
      "cell_type": "code",
      "execution_count": null,
      "metadata": {
        "collapsed": false
      },
      "outputs": [],
      "source": [
        "from __future__ import annotations\n\nfrom gemseo.algos.design_space import DesignSpace\nfrom gemseo.algos.parameter_space import ParameterSpace\nfrom gemseo.core.chain import MDOChain\nfrom gemseo.disciplines.analytic import AnalyticDiscipline\nfrom gemseo.disciplines.scenario_adapters.mdo_scenario_adapter import MDOScenarioAdapter\nfrom gemseo.scenarios.doe_scenario import DOEScenario\nfrom matplotlib import pyplot as plt\nfrom numpy import array\nfrom numpy import linspace\n\nfrom gemseo_calibration.scenario import CalibrationMeasure\nfrom gemseo_calibration.scenario import CalibrationScenario\n\nmodel = AnalyticDiscipline({\"y\": \"a*x**2+b*x+c\"}, name=\"model\")"
      ]
    },
    {
      "cell_type": "markdown",
      "metadata": {},
      "source": [
        "This is a model of our reference data source,\nwhich a kind of oracle providing input-output data\nwithout the mathematical relationship behind it:\n\n"
      ]
    },
    {
      "cell_type": "code",
      "execution_count": null,
      "metadata": {
        "collapsed": false
      },
      "outputs": [],
      "source": [
        "original_model = AnalyticDiscipline({\"y\": \"2*x**2-1.5*x+0.75\"}, name=\"model\")\n\nreference = MDOChain([original_model, AnalyticDiscipline({\"y\": \"y+u\"}, name=\"noise\")])\nreference.set_cache_policy(reference.CacheType.MEMORY_FULL)"
      ]
    },
    {
      "cell_type": "markdown",
      "metadata": {},
      "source": [
        "This reference model contains a random additive term $u$\nnormally distributed with mean $\\mu$ and standard deviation $\\sigma$.\nThis means that the observations of $f:x\\mapsto 2*x^2-0.5*x$ are noised.\n\n"
      ]
    },
    {
      "cell_type": "markdown",
      "metadata": {},
      "source": [
        "In this pedagogical example,\nthe mathematical relationship is known\nand we can see that the parameters $a$, $b$ and $c$\nmust be equal to 2, 0.5 and 0.75 respectively\nso that the model and the reference are identical.\n\nIn the following,\nwe will try to find these values from several information sources.\n\n"
      ]
    },
    {
      "cell_type": "markdown",
      "metadata": {},
      "source": [
        "Firstly,\nwe have a prior information about the parameters, that is $[a,b,c]\\in[-5,5]^2$:\n\n"
      ]
    },
    {
      "cell_type": "code",
      "execution_count": null,
      "metadata": {
        "collapsed": false
      },
      "outputs": [],
      "source": [
        "prior = ParameterSpace()\nprior.add_variable(\"a\", l_b=-5.0, u_b=5.0, value=0.0)\nprior.add_variable(\"b\", l_b=-5.0, u_b=5.0, value=0.0)\nprior.add_variable(\"c\", l_b=-5.0, u_b=5.0, value=0.0)"
      ]
    },
    {
      "cell_type": "markdown",
      "metadata": {},
      "source": [
        "Secondly,\nwe have reference output data over the input space $[0.,3.]$.\n\n"
      ]
    },
    {
      "cell_type": "code",
      "execution_count": null,
      "metadata": {
        "collapsed": false
      },
      "outputs": [],
      "source": [
        "input_space = DesignSpace()\ninput_space.add_variable(\"x\", l_b=0.0, u_b=3.0, value=1.5)"
      ]
    },
    {
      "cell_type": "markdown",
      "metadata": {},
      "source": [
        "These data are noisy; this noise can be modeled by a centered Gaussian random variable\nwith standard deviation equal to 0.5.\n\n"
      ]
    },
    {
      "cell_type": "code",
      "execution_count": null,
      "metadata": {
        "collapsed": false
      },
      "outputs": [],
      "source": [
        "noise_space = ParameterSpace()\nnoise_space.add_random_variable(\"u\", \"OTNormalDistribution\", mu=0.0, sigma=0.5)"
      ]
    },
    {
      "cell_type": "markdown",
      "metadata": {},
      "source": [
        "The observations can be generated with two nested design of experiments:\nan inner one sampling the reference model $f$,\nan outer one repeating this sampling for different values of the noise.\nA classical way of doing this with |g| is to use a\n[MDOScenarioAdapter][gemseo.disciplines.scenario_adapters.mdo_scenario_adapter.MDOScenarioAdapter]\nwhich is an [MDODiscipline][gemseo.core.discipline.MDODiscipline] executing a\n[DOEScenario][gemseo.scenarios.doe_scenario.DOEScenario]\nfor a given value of $u$.\nFor example, let us imagine a [DOEScenario][gemseo.scenarios.doe_scenario.DOEScenario]\nevaluating the reference data source at 5 equispaced points $x_1,\\ldots,x_5$.\n\n"
      ]
    },
    {
      "cell_type": "code",
      "execution_count": null,
      "metadata": {
        "collapsed": false
      },
      "outputs": [],
      "source": [
        "sub_scenario = DOEScenario([reference], \"DisciplinaryOpt\", \"y\", input_space)\nsub_scenario.default_inputs = {\"algo\": \"fullfact\", \"n_samples\": 5}\n\nadapter = MDOScenarioAdapter(sub_scenario, [\"u\"], [\"y\"])"
      ]
    },
    {
      "cell_type": "markdown",
      "metadata": {},
      "source": [
        "Then,\nthis\n[MDOScenarioAdapter][gemseo.disciplines.scenario_adapters.mdo_scenario_adapter.MDOScenarioAdapter]\nis embedded in a\n[DOEScenario][gemseo.scenarios.doe_scenario.DOEScenario]\nin charge to sample it over the uncertain space.\n\n"
      ]
    },
    {
      "cell_type": "code",
      "execution_count": null,
      "metadata": {
        "collapsed": false
      },
      "outputs": [],
      "source": [
        "scenario = DOEScenario([adapter], \"DisciplinaryOpt\", \"y\", noise_space)\nscenario.execute({\"algo\": \"OT_LHSC\", \"n_samples\": 5})\nreference_data = reference.cache.to_dataset().to_dict_of_arrays(False)"
      ]
    },
    {
      "cell_type": "markdown",
      "metadata": {},
      "source": [
        "From these information sources,\nwe can build and execute a\n[CalibrationScenario][gemseo_calibration.scenario.CalibrationScenario]\nto find the value of the parameters $a$, $b$ and $c$\nwhich minimizes a\n[CalibrationMeasure][gemseo_calibration.measure.CalibrationMeasure]\nrelated to the output $y$:\n\n"
      ]
    },
    {
      "cell_type": "code",
      "execution_count": null,
      "metadata": {
        "collapsed": false
      },
      "outputs": [],
      "source": [
        "calibration = CalibrationScenario(model, \"x\", CalibrationMeasure(\"y\", \"MSE\"), prior)\ncalibration.execute({\n    \"algo\": \"NLOPT_COBYLA\",\n    \"reference_data\": reference_data,\n    \"max_iter\": 100,\n})"
      ]
    },
    {
      "cell_type": "markdown",
      "metadata": {},
      "source": [
        "Lastly,\nwe get the calibrated parameters:\n\n"
      ]
    },
    {
      "cell_type": "markdown",
      "metadata": {},
      "source": [
        "plot an optimization history view:\n\n"
      ]
    },
    {
      "cell_type": "code",
      "execution_count": null,
      "metadata": {
        "collapsed": false
      },
      "outputs": [],
      "source": [
        "calibration.post_process(\"OptHistoryView\", save=False, show=True)"
      ]
    },
    {
      "cell_type": "markdown",
      "metadata": {},
      "source": [
        "as well as the model data versus the reference ones:\n\n"
      ]
    },
    {
      "cell_type": "code",
      "execution_count": null,
      "metadata": {
        "collapsed": false
      },
      "outputs": [],
      "source": [
        "expression = \"a*x**2+b*x+c\"\nfor parameter_name, parameter_value in calibration.posterior_parameters.items():\n    expression = expression.replace(parameter_name, str(parameter_value[0]))\ncalibrated = AnalyticDiscipline({\"y\": expression}, name=\"calibrated\")\n\nx_values = linspace(0.0, 3.0, 100)\ny_values = [original_model.execute({\"x\": array([x_i])})[\"y\"][0] for x_i in x_values]\npost_y_values = [calibrated.execute({\"x\": array([x_i])})[\"y\"][0] for x_i in x_values]\nplt.plot(x_values, y_values, color=\"blue\", label=\"Unknown model\")\nplt.plot(x_values, post_y_values, color=\"red\", label=\"Calibrated model\")\n\nx_points = []\ny_points = []\nfor data in reference.cache:\n    x_points.append(data.inputs[\"x\"][0])\n    y_points.append(data.outputs[\"y\"][0])\n\nplt.plot(\n    x_points,\n    y_points,\n    color=\"blue\",\n    linestyle=\"\",\n    marker=\"x\",\n    label=\"Reference data\",\n)\nplt.legend()\nplt.show()"
      ]
    }
  ],
  "metadata": {
    "kernelspec": {
      "display_name": "Python 3",
      "language": "python",
      "name": "python3"
    },
    "language_info": {
      "codemirror_mode": {
        "name": "ipython",
        "version": 3
      },
      "file_extension": ".py",
      "mimetype": "text/x-python",
      "name": "python",
      "nbconvert_exporter": "python",
      "pygments_lexer": "ipython3",
      "version": "3.9.16"
    }
  },
  "nbformat": 4,
  "nbformat_minor": 0
}