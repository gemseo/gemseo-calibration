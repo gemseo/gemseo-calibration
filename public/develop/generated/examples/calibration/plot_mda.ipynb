{
  "cells": [
    {
      "cell_type": "code",
      "execution_count": null,
      "metadata": {
        "collapsed": false
      },
      "outputs": [],
      "source": [
        "%matplotlib inline"
      ]
    },
    {
      "cell_type": "markdown",
      "metadata": {},
      "source": [
        "# Strongly coupled models.\n\nThis example illustrates the calibration of a system of strongly coupled disciplines\nwith two poorly known parameters.\n"
      ]
    },
    {
      "cell_type": "code",
      "execution_count": null,
      "metadata": {
        "collapsed": false
      },
      "outputs": [],
      "source": [
        "from __future__ import annotations\n\nfrom gemseo import sample_disciplines\nfrom gemseo.algos.design_space import DesignSpace\nfrom gemseo.algos.parameter_space import ParameterSpace\nfrom gemseo.disciplines.analytic import AnalyticDiscipline\nfrom numpy import array\n\nfrom gemseo_calibration.metrics.settings import CalibrationMetricSettings\nfrom gemseo_calibration.scenario import CalibrationScenario"
      ]
    },
    {
      "cell_type": "markdown",
      "metadata": {},
      "source": [
        "Let us consider a model $f(x)$ from $\\mathbb{R}$ to $\\mathbb{R}^2$,\ndecomposed into a model $f_1(x,y_2)=x+ay_2$ from $\\mathbb{R}^2$ to $\\mathbb{R}$:\n\n"
      ]
    },
    {
      "cell_type": "code",
      "execution_count": null,
      "metadata": {
        "collapsed": false
      },
      "outputs": [],
      "source": [
        "model_1 = AnalyticDiscipline({\"y1\": \"x+a*y2\"}, name=\"model_1\")"
      ]
    },
    {
      "cell_type": "markdown",
      "metadata": {},
      "source": [
        "and a model $f_2(x,y_1)=x+by_1$ from $\\mathbb{R}^2$ to $\\mathbb{R}$:\n\n"
      ]
    },
    {
      "cell_type": "code",
      "execution_count": null,
      "metadata": {
        "collapsed": false
      },
      "outputs": [],
      "source": [
        "model_2 = AnalyticDiscipline({\"y2\": \"x+b*y1\"}, name=\"model_2\")\nmodels = [model_1, model_2]"
      ]
    },
    {
      "cell_type": "markdown",
      "metadata": {},
      "source": [
        "such that $f(x)=(y_1,y_2).$\n\nThis is a model of our reference data source,\nwhich is a kind of oracle providing input-output data\nwithout the mathematical relationship behind it:\n\n"
      ]
    },
    {
      "cell_type": "code",
      "execution_count": null,
      "metadata": {
        "collapsed": false
      },
      "outputs": [],
      "source": [
        "reference = AnalyticDiscipline({\"y1\": \"x+2*y2\", \"y2\": \"x+3*y1\"}, name=\"reference\")"
      ]
    },
    {
      "cell_type": "markdown",
      "metadata": {},
      "source": [
        "However in this pedagogical example,\nthe mathematical relationship is known, and we can see that\nthe parameters $a$ and $b$ must be equal to 2 and 3 respectively\nso that the model and the reference are identical.\n\nIn the following,\nwe will try to find this value from a unique observation.\n\n"
      ]
    },
    {
      "cell_type": "markdown",
      "metadata": {},
      "source": [
        "Firstly,\nwe have prior knowledge of the parameter values, that is $[a,b]\\in[1,10]^2$:\n\n"
      ]
    },
    {
      "cell_type": "code",
      "execution_count": null,
      "metadata": {
        "collapsed": false
      },
      "outputs": [],
      "source": [
        "prior = ParameterSpace()\nprior.add_variable(\"a\", lower_bound=1.0, upper_bound=10.0, value=1.0)\nprior.add_variable(\"b\", lower_bound=1.0, upper_bound=10.0, value=1.0)"
      ]
    },
    {
      "cell_type": "markdown",
      "metadata": {},
      "source": [
        "Secondly,\ngiven an input space $[0,3]$:\n\n"
      ]
    },
    {
      "cell_type": "code",
      "execution_count": null,
      "metadata": {
        "collapsed": false
      },
      "outputs": [],
      "source": [
        "input_space = DesignSpace()\ninput_space.add_variable(\"x\", lower_bound=0.0, upper_bound=3.0)"
      ]
    },
    {
      "cell_type": "markdown",
      "metadata": {},
      "source": [
        "we generate reference output data by sampling the reference discipline:\n\n"
      ]
    },
    {
      "cell_type": "code",
      "execution_count": null,
      "metadata": {
        "collapsed": false
      },
      "outputs": [],
      "source": [
        "reference_dataset = sample_disciplines(\n    [reference],\n    input_space,\n    [\"y1\", \"y2\"],\n    algo_name=\"CustomDOE\",\n    samples=array([[1.0], [2.0]]),\n)\nreference_data = reference_dataset.to_dict_of_arrays(False)"
      ]
    },
    {
      "cell_type": "markdown",
      "metadata": {},
      "source": [
        "From this unique observation,\nwe can build and execute a\n[CalibrationScenario][gemseo_calibration.scenario.CalibrationScenario]\nto find the value of the parameters $a$ and $b$\nwhich minimizes\n[CalibrationMetric][gemseo_calibration.metrics.base_calibration_metric.BaseCalibrationMetric]\ntaking into account the outputs $y_1$ and $y_2$:\n\n"
      ]
    },
    {
      "cell_type": "code",
      "execution_count": null,
      "metadata": {
        "collapsed": false
      },
      "outputs": [],
      "source": [
        "calibration = CalibrationScenario(\n    models,\n    \"x\",\n    [\n        CalibrationMetricSettings(output_name=\"y1\", metric_name=\"MSE\"),\n        CalibrationMetricSettings(output_name=\"y2\", metric_name=\"MSE\"),\n    ],\n    prior,\n)\ncalibration.execute(\n    algo_name=\"NLOPT_COBYLA\", reference_data=reference_data, max_iter=100\n)"
      ]
    },
    {
      "cell_type": "markdown",
      "metadata": {},
      "source": [
        "Lastly,\nwe can check that the calibrated parameters are very close to the expected ones\n\n"
      ]
    },
    {
      "cell_type": "code",
      "execution_count": null,
      "metadata": {
        "collapsed": false
      },
      "outputs": [],
      "source": [
        "calibration.optimization_result.x_opt"
      ]
    },
    {
      "cell_type": "markdown",
      "metadata": {},
      "source": [
        "and plot an optimization history view:\n\n"
      ]
    },
    {
      "cell_type": "code",
      "execution_count": null,
      "metadata": {
        "collapsed": false
      },
      "outputs": [],
      "source": [
        "calibration.post_process(post_name=\"OptHistoryView\", save=False, show=True)"
      ]
    },
    {
      "cell_type": "markdown",
      "metadata": {},
      "source": [
        "as well as the model data versus the reference ones,\nbefore and after the calibration:\n\n"
      ]
    },
    {
      "cell_type": "code",
      "execution_count": null,
      "metadata": {
        "collapsed": false
      },
      "outputs": [],
      "source": [
        "calibration.post_process(\n    post_name=\"DataVersusModel\", output=\"y1\", save=False, show=True\n)"
      ]
    }
  ],
  "metadata": {
    "kernelspec": {
      "display_name": "Python 3",
      "language": "python",
      "name": "python3"
    },
    "language_info": {
      "codemirror_mode": {
        "name": "ipython",
        "version": 3
      },
      "file_extension": ".py",
      "mimetype": "text/x-python",
      "name": "python",
      "nbconvert_exporter": "python",
      "pygments_lexer": "ipython3",
      "version": "3.12.10"
    }
  },
  "nbformat": 4,
  "nbformat_minor": 0
}