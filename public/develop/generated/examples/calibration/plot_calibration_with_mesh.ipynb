{
  "cells": [
    {
      "cell_type": "code",
      "execution_count": null,
      "metadata": {
        "collapsed": false
      },
      "outputs": [],
      "source": [
        "%matplotlib inline"
      ]
    },
    {
      "cell_type": "markdown",
      "metadata": {},
      "source": [
        "# Calibration scenario with a mesh-based output.\n"
      ]
    },
    {
      "cell_type": "code",
      "execution_count": null,
      "metadata": {
        "collapsed": false
      },
      "outputs": [],
      "source": [
        "from __future__ import annotations\n\nfrom gemseo.algos.parameter_space import ParameterSpace\nfrom gemseo.core.discipline import MDODiscipline\nfrom numpy import array\nfrom numpy import linspace\n\nfrom gemseo_calibration.scenario import CalibrationMeasure\nfrom gemseo_calibration.scenario import CalibrationScenario"
      ]
    },
    {
      "cell_type": "markdown",
      "metadata": {},
      "source": [
        "Let us consider a function $f(x)=[ax,\\gamma bx, \\gamma]$\nfrom $\\mathbb{R}$ to $\\mathbb{R}^11$\nwhere $\\gamma=[0,0.25,0.5,0.75,1.]$ plays the role of a mesh.\nIn practice,\nwe could imagine a model having an output related to a mesh $\\gamma$\nwhose size and nodes would depend on the model inputs.\nThus, this mesh is also an output of the model.\n\n"
      ]
    },
    {
      "cell_type": "code",
      "execution_count": null,
      "metadata": {
        "collapsed": false
      },
      "outputs": [],
      "source": [
        "class Model(MDODiscipline):\n    def __init__(self) -> None:\n        super().__init__()\n        self.input_grammar.update_from_names([\"x\", \"a\", \"b\"])\n        self.output_grammar.update_from_names([\"y\", \"z\", \"mesh\"])\n        self.default_inputs = {\"x\": array([0.0]), \"a\": array([0.0]), \"b\": array([0.0])}\n\n    def _run(self) -> None:\n        x_input = self.local_data[\"x\"]\n        a_parameter = self.local_data[\"a\"]\n        b_parameter = self.local_data[\"b\"]\n        y_output = a_parameter * x_input\n        z_mesh = linspace(0, 1, 5)\n        z_output = b_parameter * x_input[0] * z_mesh\n        self.store_local_data(y=y_output, z=z_output, mesh=z_mesh)"
      ]
    },
    {
      "cell_type": "markdown",
      "metadata": {},
      "source": [
        "This is a model of our reference data source,\nwhich a kind of oracle providing input-output data\nwithout the mathematical relationship behind it:\n\n"
      ]
    },
    {
      "cell_type": "code",
      "execution_count": null,
      "metadata": {
        "collapsed": false
      },
      "outputs": [],
      "source": [
        "class ReferenceModel(MDODiscipline):\n    def __init__(self) -> None:\n        super().__init__()\n        self.input_grammar.update_from_names([\"x\"])\n        self.output_grammar.update_from_names([\"y\", \"z\", \"mesh\"])\n        self.default_inputs = {\"x\": array([0.0])}\n\n    def _run(self) -> None:\n        x_input = self.local_data[\"x\"]\n        y_output = 2 * x_input\n        z_mesh = linspace(0, 1, 5)\n        z_output = 3 * x_input[0] * z_mesh\n        self.store_local_data(y=y_output, z=z_output, mesh=z_mesh)"
      ]
    },
    {
      "cell_type": "markdown",
      "metadata": {},
      "source": [
        "However in this pedagogical example,\nthe mathematical relationship is known and we can see that\nthe parameters $a$ and $b$ must be equal to 2 and 3 respectively\nso that the model and the reference are identical.\n\nIn the following,\nwe will try to find these values from several information sources.\n\n"
      ]
    },
    {
      "cell_type": "markdown",
      "metadata": {},
      "source": [
        "Firstly,\nwe have a prior information about the parameters, that is $[a,b]\\in[0,10]^2$:\n\n"
      ]
    },
    {
      "cell_type": "code",
      "execution_count": null,
      "metadata": {
        "collapsed": false
      },
      "outputs": [],
      "source": [
        "prior = ParameterSpace()\nprior.add_variable(\"a\", lower_bound=0.0, upper_bound=10.0, value=0.0)\nprior.add_variable(\"b\", lower_bound=0.0, upper_bound=10.0, value=0.0)"
      ]
    },
    {
      "cell_type": "markdown",
      "metadata": {},
      "source": [
        "Secondly,\nwe have reference output data over the input space $[0.,3.]$:\n\n"
      ]
    },
    {
      "cell_type": "code",
      "execution_count": null,
      "metadata": {
        "collapsed": false
      },
      "outputs": [],
      "source": [
        "reference = ReferenceModel()\nreference.set_cache_policy(reference.CacheType.MEMORY_FULL)\nreference.execute({\"x\": array([1.0])})\nreference.execute({\"x\": array([2.0])})\nreference_data = reference.cache.to_dataset().to_dict_of_arrays(False)"
      ]
    },
    {
      "cell_type": "markdown",
      "metadata": {},
      "source": [
        "From these information sources,\nwe can build and execute a\n[CalibrationScenario][gemseo_calibration.scenario.CalibrationScenario]\nto find the values of the parameters $a$ and $b$\nwhich minimizes a\n[CalibrationMeasure][gemseo_calibration.measure.CalibrationMeasure]\ntaking into account the outputs $y$ and $z$:\n\n"
      ]
    },
    {
      "cell_type": "code",
      "execution_count": null,
      "metadata": {
        "collapsed": false
      },
      "outputs": [],
      "source": [
        "model = Model()\ncontrol_outputs = [\n    CalibrationMeasure(\"y\", \"MSE\"),\n    CalibrationMeasure(\"z\", \"ISE\", \"mesh\"),\n]\ncalibration = CalibrationScenario(model, \"x\", control_outputs, prior)\ncalibration.execute({\n    \"algo\": \"NLOPT_COBYLA\",\n    \"reference_data\": reference_data,\n    \"max_iter\": 100,\n})"
      ]
    },
    {
      "cell_type": "markdown",
      "metadata": {},
      "source": [
        "Lastly,\nwe get the calibrated parameters:\n\n"
      ]
    },
    {
      "cell_type": "markdown",
      "metadata": {},
      "source": [
        "plot an optimization history view:\n\n"
      ]
    },
    {
      "cell_type": "code",
      "execution_count": null,
      "metadata": {
        "collapsed": false
      },
      "outputs": [],
      "source": [
        "calibration.post_process(\"OptHistoryView\", save=False, show=True)"
      ]
    },
    {
      "cell_type": "markdown",
      "metadata": {},
      "source": [
        "as well as the model data versus the reference ones,\nbefore and after the calibration:\n\n"
      ]
    },
    {
      "cell_type": "code",
      "execution_count": null,
      "metadata": {
        "collapsed": false
      },
      "outputs": [],
      "source": [
        "calibration.post_process(\"DataVersusModel\", output=\"y\", save=False, show=True)"
      ]
    }
  ],
  "metadata": {
    "kernelspec": {
      "display_name": "Python 3",
      "language": "python",
      "name": "python3"
    },
    "language_info": {
      "codemirror_mode": {
        "name": "ipython",
        "version": 3
      },
      "file_extension": ".py",
      "mimetype": "text/x-python",
      "name": "python",
      "nbconvert_exporter": "python",
      "pygments_lexer": "ipython3",
      "version": "3.9.16"
    }
  },
  "nbformat": 4,
  "nbformat_minor": 0
}