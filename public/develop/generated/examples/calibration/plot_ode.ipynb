{
  "cells": [
    {
      "cell_type": "code",
      "execution_count": null,
      "metadata": {
        "collapsed": false
      },
      "outputs": [],
      "source": [
        "%matplotlib inline"
      ]
    },
    {
      "cell_type": "markdown",
      "metadata": {},
      "source": [
        "Calibrate an ordinary differential equation.\n"
      ]
    },
    {
      "cell_type": "code",
      "execution_count": null,
      "metadata": {
        "collapsed": false
      },
      "outputs": [],
      "source": [
        "from gemseo.algos.design_space import DesignSpace\nfrom matplotlib import pyplot as plt\nfrom numpy import atleast_2d\nfrom numpy import full\nfrom numpy import linspace\n\nfrom gemseo_calibration.metrics.settings import CalibrationMetricSettings\nfrom gemseo_calibration.problems.signal.oscillator import Oscillator\nfrom gemseo_calibration.scenario import CalibrationScenario\nfrom gemseo_calibration.signal.signal_generator_discipline import (\n    SignalGeneratorDiscipline,\n)"
      ]
    },
    {
      "cell_type": "markdown",
      "metadata": {},
      "source": [
        "## The problem\n\n### The data generator\n\nIn this example,\nwe will observe a time-dependent angular rate oscillator,\nor more precisely a reference model generating synthetic data.\nIts state $s=(p,v)$,\ndefined by its position $p$ and its velocity $v$,\nis modelled by the ordinary differential equation (ODE)\n\n$$\\frac{ds(t)}{dt}=(v(t),-\\omega^2(t) p(t))$$\n\nwith $p(t_0)=p_0$, $v(t_0)=v_0$ and $\\omega(t_0)=\\omega_0$ at initial time $t_0$:\nIts angular velocity $\\omega$ is also modelled by an ODE:\n\n$$\\frac{d\\omega(t)}{dt} = -a\\exp(-at)$$\n\nwith $a=0.02$ and $\\omega(t_0)=\\omega_0$.\n\nThis oscillator can be built as follows:\n\n"
      ]
    },
    {
      "cell_type": "code",
      "execution_count": null,
      "metadata": {
        "collapsed": false
      },
      "outputs": [],
      "source": [
        "omega_0 = 1.0\np_0 = 1.0\nv_0 = 0.0\noscillator = Oscillator()"
      ]
    },
    {
      "cell_type": "markdown",
      "metadata": {},
      "source": [
        "We then seek to simulate the time evolution of its state from observations,\nunder the assumption that the model of $\\omega$ is unknown.\n\n### The simulator\n\nWe can approximate this oscillator by a simulator based on an oscillator model\nwhose angular velocity is constant and set to $\\omega_0$:\n\n"
      ]
    },
    {
      "cell_type": "code",
      "execution_count": null,
      "metadata": {
        "collapsed": false
      },
      "outputs": [],
      "source": [
        "simulator = Oscillator(omega=omega_0)"
      ]
    },
    {
      "cell_type": "markdown",
      "metadata": {},
      "source": [
        "Unfortunately,\nthis approximation is too crude, as illustrated\nover the time interval $[t_0,t_n]=[0,20]$:\n\n"
      ]
    },
    {
      "cell_type": "code",
      "execution_count": null,
      "metadata": {
        "collapsed": false
      },
      "outputs": [],
      "source": [
        "t_0 = 0.0\nt_n = 20.0\nn_nodes = 200\ntimes = linspace(t_0, t_n, num=n_nodes)\ndata = oscillator.generate(times, {\"omega\": omega_0, \"position\": p_0, \"velocity\": v_0})\nsimulations = simulator.generate(times, {\"position\": p_0, \"velocity\": v_0})\n\nplt.plot(\n    data.times, data.evolution[\"position\"], \"-\", color=\"tab:blue\", label=\"Oscillator\"\n)\nplt.plot(\n    simulations.times,\n    simulations.evolution[\"position\"],\n    \"--\",\n    color=\"tab:orange\",\n    label=\"Simulator\",\n)\nplt.grid()\nplt.legend()\nplt.ylabel(\"Position (m)\")\n_ = plt.xlabel(\"Time (s)\")"
      ]
    },
    {
      "cell_type": "markdown",
      "metadata": {},
      "source": [
        "This difference is perfectly understandable,\nsince if we look at the observations of the oscillator,\nwe can deduce that its angular velocity evolves with time.\nIt is therefore in our interest to take this information into account,\neither by changing its value regularly or by using a parametric model for $\\omega$.\n\n## Periodic calibration\n\n### The methodology\nWe therefore seek to calibrate this simulator:\n\n"
      ]
    },
    {
      "cell_type": "code",
      "execution_count": null,
      "metadata": {
        "collapsed": false
      },
      "outputs": [],
      "source": [
        "calibrated_simulator = Oscillator(omega=omega_0)"
      ]
    },
    {
      "cell_type": "markdown",
      "metadata": {},
      "source": [
        "at $m=10$ times $(t_i)_{1\\leq i \\leq m}$ equally spaced with time step $\\delta$\nover the interval $[t_0,t_n]$:\n\n"
      ]
    },
    {
      "cell_type": "code",
      "execution_count": null,
      "metadata": {
        "collapsed": false
      },
      "outputs": [],
      "source": [
        "m = 10\nn = m + 1\nt_i = t_0\ndelta = (t_n - t_0) / n\nn_sub_nodes = n_nodes // n"
      ]
    },
    {
      "cell_type": "markdown",
      "metadata": {},
      "source": [
        "by varying $\\omega$ over the interval $[0.5,3]$:\n\n"
      ]
    },
    {
      "cell_type": "code",
      "execution_count": null,
      "metadata": {
        "collapsed": false
      },
      "outputs": [],
      "source": [
        "search_space = DesignSpace()\nsearch_space.add_variable(\"omega\", lower_bound=0.5, upper_bound=3.0, value=omega_0)"
      ]
    },
    {
      "cell_type": "markdown",
      "metadata": {},
      "source": [
        "in order to minimize\nthe mean squared error of the position of the `calibrated_simulator`.\n\n"
      ]
    },
    {
      "cell_type": "code",
      "execution_count": null,
      "metadata": {
        "collapsed": false
      },
      "outputs": [],
      "source": [
        "output_name = \"position\""
      ]
    },
    {
      "cell_type": "markdown",
      "metadata": {},
      "source": [
        "In the following,\nwe mimic the sequential acquisition of observations from the `oscillator`\nusing a for-loop in which we use a\n[CalibrationScenario][gemseo_calibration.scenario.CalibrationScenario]\nto calibrate the `calibrated_simulator` every $\\delta$ seconds\nand execute the `simulator` with the constant angular velocity.\nFirst,\nwe initialize the state variables of the ODEs:\n\n"
      ]
    },
    {
      "cell_type": "code",
      "execution_count": null,
      "metadata": {
        "collapsed": false
      },
      "outputs": [],
      "source": [
        "initial_oscillator_omega = omega_0\ninitial_oscillator_position = p_0\ninitial_oscillator_velocity = v_0\ninitial_simulator_position = p_0\ninitial_simulator_velocity = v_0\ninitial_calibrated_simulator_position = p_0\ninitial_calibrated_simulator_velocity = v_0\nnew_omega = [full(n_sub_nodes, omega_0), None]"
      ]
    },
    {
      "cell_type": "markdown",
      "metadata": {},
      "source": [
        "and then,\nat each calibration time $t_i$,\nwe\n\n1. plot the observations acquired by `oscillator` over $[t_{i-1},t_i]$,\n2. generate simulations with the `simulator`  over $[t_{i-1},t_i]$ and plot them,\n3. calibrate the `calibrated_simulator` over $[t_{i-1},t_i]$,\n   generate simulations and plot them.\n\n"
      ]
    },
    {
      "cell_type": "code",
      "execution_count": null,
      "metadata": {
        "collapsed": false
      },
      "outputs": [],
      "source": [
        "fig, (ax1, ax2) = plt.subplots(2, 1)\nfor i in range(m + 1):\n    # The times of interest, from the initial time to the calibration time.\n    times = linspace(t_i, t_i + delta, num=n_sub_nodes)\n\n    # Generation of reference data at times of interest.\n    oscillator_signal = oscillator.generate(\n        times,\n        {\n            \"omega\": initial_oscillator_omega,\n            \"position\": initial_oscillator_position,\n            \"velocity\": initial_oscillator_velocity,\n        },\n    )\n\n    # Generation of simulations at times of interest with the uncalibrated simulator.\n    simulator_signal = simulator.generate(\n        times,\n        {\n            \"position\": initial_simulator_position,\n            \"velocity\": initial_simulator_velocity,\n        },\n    )\n    # Calibration of the simulator at times of interest.\n    calibration = CalibrationScenario(\n        SignalGeneratorDiscipline(\n            # The signal generator\n            calibrated_simulator,\n            # The state variable names\n            [\"position\", \"velocity\"],\n            # The parameter names\n            [\"omega\"],\n            # The observable names\n            [output_name],\n            # The times of interest\n            times,\n        ),\n        # The input variable names in the calibration data\n        [\"initial_position\", \"initial_velocity\"],\n        CalibrationMetricSettings(output_name=output_name, metric_name=\"MSE\"),\n        # The possible values of omega\n        search_space,\n    )\n    calibration.execute(\n        algo_name=\"NLOPT_COBYLA\",\n        reference_data={\n            \"initial_position\": atleast_2d(initial_oscillator_position),\n            \"initial_velocity\": atleast_2d(initial_oscillator_velocity),\n            output_name: atleast_2d(oscillator_signal.evolution[output_name]),\n        },\n        max_iter=100,\n    )\n\n    # Generation of simulations at times of interest with the calibrated simulator.\n    omega_opt = calibration.optimization_result.x_opt_as_dict[\"omega\"][0]\n    calibrated_simulator.rhs_discipline.default_input_data[\"omega\"] = omega_opt\n    calibrated_simulator_signal = calibrated_simulator.generate(\n        times,\n        {\n            \"position\": initial_calibrated_simulator_position,\n            \"velocity\": initial_calibrated_simulator_velocity,\n        },\n    )\n\n    new_omega = (full(n_sub_nodes, omega_opt), new_omega[0])\n\n    # Plot the results at times of interest.\n    ax1.plot(\n        times,\n        oscillator_signal.evolution[output_name],\n        \"-\",\n        color=\"tab:blue\",\n        label=\"Oscillator\" if i == 0 else \"\",\n    )\n    ax1.plot(\n        times,\n        simulator_signal.evolution[output_name],\n        \"--\",\n        color=\"tab:orange\",\n        label=\"Simulator\" if i == 0 else \"\",\n    )\n    ax1.plot(\n        times,\n        calibrated_simulator_signal.evolution[output_name],\n        \"-.\",\n        color=\"tab:green\",\n        label=\"Calibrated simulator\" if i == 0 else \"\",\n    )\n    ax1.axvline(x=times[-1], color=\"gray\", label=\"Calibration\" if i == 0 else \"\")\n    ax2.plot(\n        times,\n        oscillator_signal.evolution[\"omega\"],\n        \"-\",\n        color=\"tab:blue\",\n    )\n    ax2.plot(\n        times,\n        full(n_sub_nodes, omega_0),\n        \"--\",\n        color=\"tab:orange\",\n    )\n    ax2.plot(\n        times,\n        new_omega[1],\n        \"-.\",\n        color=\"tab:green\",\n    )\n    ax2.axvline(x=times[-1], color=\"gray\")\n\n    # Update the initial values of the state variables for the next iteration.\n    t_i += delta\n    # --- For the reference data.\n    final_state = oscillator_signal.final\n    initial_oscillator_omega = final_state[\"omega\"][0]\n    initial_oscillator_position = final_state[\"position\"][0]\n    initial_oscillator_velocity = final_state[\"velocity\"][0]\n    # --- For the uncalibrated simulator.\n    final_state = simulator_signal.final\n    initial_simulator_position = final_state[\"position\"][0]\n    initial_simulator_velocity = final_state[\"velocity\"][0]\n    # --- For the calibrated simulator.\n    final_state = calibrated_simulator_signal.final\n    initial_calibrated_simulator_position = final_state[\"position\"][0]\n    initial_calibrated_simulator_velocity = final_state[\"velocity\"][0]\n\n# Finalize the plot.\nax1.legend()\nax1.set_ylabel(\"Position (m)\")\nax2.set_ylabel(r\"Angular velocity ($s^{-1}$)\")\nax2.set_xlabel(\"Time (s)\")\nax1.grid()\nax2.grid()"
      ]
    },
    {
      "cell_type": "markdown",
      "metadata": {},
      "source": [
        "### The results\nIn this graph,\nthe vertical lines indicate the calibration times.\nWe can see that\nthe original simulator diverges from observations as time progresses,\nwhereas the recalibrated simulator is close to observations\nthroughout the time horizon.\nFrom an $\\omega$ point of view,\nwe can see that the stairs function obtained with the recalibrated simulator\nis close to the expected one, unlike that of the original model.\n\n## One-shot calibration\n\n### The methodology\n\nWe could also imagine the case where\nthe ODE defining the angular velocity is a grey box,\nin the sense that only the parameter `a` is unknown.\nThe above then becomes:\n\n"
      ]
    },
    {
      "cell_type": "code",
      "execution_count": null,
      "metadata": {
        "collapsed": false
      },
      "outputs": [],
      "source": [
        "calibrated_simulator = Oscillator()\n\nsearch_space = DesignSpace()\nsearch_space.add_variable(\"a\", lower_bound=0.0001, upper_bound=0.1, value=0.001)\n\ninitial_oscillator_omega = omega_0\ninitial_oscillator_position = p_0\ninitial_oscillator_velocity = v_0\ninitial_simulator_position = p_0\ninitial_simulator_velocity = v_0\ninitial_calibrated_simulator_omega = omega_0\ninitial_calibrated_simulator_position = p_0\ninitial_calibrated_simulator_velocity = v_0\nfig, (ax1, ax2) = plt.subplots(2, 1)\nfor i in range(m + 1):\n    # The times of interest, from the initial time to the calibration time.\n    times = linspace(t_i, t_i + delta, num=n_sub_nodes)\n\n    # Generation of reference data at times of interest.\n    oscillator_signal = oscillator.generate(\n        times,\n        {\n            \"omega\": initial_oscillator_omega,\n            \"position\": initial_oscillator_position,\n            \"velocity\": initial_oscillator_velocity,\n        },\n    )\n\n    # Generation of simulations at times of interest with the uncalibrated simulator.\n    simulator_signal = simulator.generate(\n        times,\n        {\n            \"position\": initial_simulator_position,\n            \"velocity\": initial_simulator_velocity,\n        },\n    )\n\n    # Calibration of the simulator at times of interest.\n    calibration = CalibrationScenario(\n        SignalGeneratorDiscipline(\n            # The signal generator\n            calibrated_simulator,\n            # The state variable names\n            [\"omega\", \"position\", \"velocity\"],\n            # The parameter names\n            [\"a\"],\n            # The observable names\n            [output_name],\n            # The times of interest\n            times,\n        ),\n        # The input variable names in the calibration data\n        [\"initial_omega\", \"initial_position\", \"initial_velocity\"],\n        CalibrationMetricSettings(output_name=output_name, metric_name=\"MSE\"),\n        # The possible values of a\n        search_space,\n    )\n    calibration.execute(\n        algo_name=\"NLOPT_COBYLA\",\n        reference_data={\n            \"initial_omega\": atleast_2d(initial_oscillator_omega),\n            \"initial_position\": atleast_2d(initial_oscillator_position),\n            \"initial_velocity\": atleast_2d(initial_oscillator_velocity),\n            output_name: atleast_2d(oscillator_signal.evolution[output_name]),\n        },\n        max_iter=100,\n    )\n\n    # Generation of simulations at times of interest with the calibrated simulator.\n    a_opt = calibration.optimization_result.x_opt_as_dict[\"a\"][0]\n    calibrated_simulator.rhs_discipline.default_input_data[\"a\"] = a_opt\n    calibrated_simulator_signal = calibrated_simulator.generate(\n        times,\n        {\n            \"omega\": initial_calibrated_simulator_omega,\n            \"position\": initial_calibrated_simulator_position,\n            \"velocity\": initial_calibrated_simulator_velocity,\n        },\n    )\n\n    # Plot the results at times of interest.\n    ax1.plot(\n        times,\n        oscillator_signal.evolution[output_name],\n        \"-\",\n        color=\"tab:blue\",\n        label=\"Oscillator\" if i == 0 else \"\",\n    )\n    ax1.plot(\n        times,\n        simulator_signal.evolution[output_name],\n        \"--\",\n        color=\"tab:orange\",\n        label=\"Simulator\" if i == 0 else \"\",\n    )\n    ax1.plot(\n        times,\n        calibrated_simulator_signal.evolution[output_name],\n        \"-.\",\n        color=\"tab:green\",\n        label=\"Calibrated simulator\" if i == 0 else \"\",\n    )\n    ax1.axvline(x=times[-1], color=\"gray\", label=\"Calibration\" if i == 0 else \"\")\n    ax2.plot(\n        times,\n        oscillator_signal.evolution[\"omega\"],\n        \"-\",\n        color=\"tab:blue\",\n    )\n    ax2.plot(\n        times,\n        full(n_sub_nodes, omega_0),\n        \"--\",\n        color=\"tab:orange\",\n    )\n    ax2.plot(\n        times,\n        calibrated_simulator_signal.evolution[\"omega\"],\n        \"-.\",\n        color=\"tab:green\",\n    )\n    ax2.axvline(x=times[-1], color=\"gray\")\n\n    # Update the initial values of the state variables for the next iteration.\n    t_i += delta\n    # --- For the reference data.\n    final_state = oscillator_signal.final\n    initial_oscillator_omega = final_state[\"omega\"][0]\n    initial_oscillator_position = final_state[\"position\"][0]\n    initial_oscillator_velocity = final_state[\"velocity\"][0]\n    # --- For the uncalibrated simulator.\n    final_state = simulator_signal.final\n    initial_simulator_position = final_state[\"position\"][0]\n    initial_simulator_velocity = final_state[\"velocity\"][0]\n    # --- For the calibrated simulator.\n    final_state = calibrated_simulator_signal.final\n    initial_calibrated_simulator_omega = final_state[\"omega\"][0]\n    initial_calibrated_simulator_position = final_state[\"position\"][0]\n    initial_calibrated_simulator_velocity = final_state[\"velocity\"][0]\n\n# Finalize the plot\nax1.legend()\nax1.set_ylabel(\"Position (m)\")\nax2.set_ylabel(r\"Angular velocity ($s^{-1}$)\")\nax2.set_xlabel(\"Time (s)\")\nax1.grid()\nax2.grid()"
      ]
    },
    {
      "cell_type": "markdown",
      "metadata": {},
      "source": [
        "### The results\nWe can see that in this case,\nthe simulations of the calibrated model are equal to the observations.\nOf course,\nwe are in a special configuration where we know the shape of the grey box.\nIn practice,\nwe could use a parametric model of $\\omega$,\ne.g. a machine learning model,\nwhose parameters would be calibrated.\n\n## Initial conditions\nLastly,\nwe may want to calibrate the initial conditions of the simulator,\nsuch as the initial position which would be incorrect\n(but the ODE model of $\\omega$ is correct):\n\n"
      ]
    },
    {
      "cell_type": "code",
      "execution_count": null,
      "metadata": {
        "collapsed": false
      },
      "outputs": [],
      "source": [
        "wrong_p_0 = -0.3\nsimulator = Oscillator()\nsimulator.rhs_discipline.default_input_data[\"position\"] = wrong_p_0"
      ]
    },
    {
      "cell_type": "markdown",
      "metadata": {},
      "source": [
        "### The methodology\nFor that,\nwe suppose that the initial position belongs to the interval $[-2,2]$:\n\n"
      ]
    },
    {
      "cell_type": "code",
      "execution_count": null,
      "metadata": {
        "collapsed": false
      },
      "outputs": [],
      "source": [
        "search_space = DesignSpace()\nsearch_space.add_variable(\n    \"initial_position\", lower_bound=-2.0, upper_bound=2.0, value=wrong_p_0\n)"
      ]
    },
    {
      "cell_type": "markdown",
      "metadata": {},
      "source": [
        "and we generate a short signal with the reference oscillator:\n\n"
      ]
    },
    {
      "cell_type": "code",
      "execution_count": null,
      "metadata": {
        "collapsed": false
      },
      "outputs": [],
      "source": [
        "times = linspace(t_0, t_0 + delta, num=n_sub_nodes)\ncalibrated_simulator = Oscillator()\nsimulator_signal = simulator.generate(\n    times, {\"omega\": omega_0, \"position\": p_0, \"velocity\": v_0}\n)"
      ]
    },
    {
      "cell_type": "markdown",
      "metadata": {},
      "source": [
        "Then,\nwe calibrate the simulator:\n\n"
      ]
    },
    {
      "cell_type": "code",
      "execution_count": null,
      "metadata": {
        "collapsed": false
      },
      "outputs": [],
      "source": [
        "calibration = CalibrationScenario(\n    SignalGeneratorDiscipline(\n        # The signal generator\n        calibrated_simulator,\n        # The state variable names\n        [\"omega\", \"position\", \"velocity\"],\n        # The parameter names\n        [],\n        # The observable names\n        [output_name],\n        # The times of interest\n        times,\n    ),\n    # The input variable names in the calibration data\n    [\"initial_omega\", \"initial_velocity\"],\n    CalibrationMetricSettings(output_name=output_name, metric_name=\"MSE\"),\n    # The possible values of a\n    search_space,\n)\ncalibration.execute(\n    algo_name=\"NLOPT_COBYLA\",\n    reference_data={\n        \"initial_omega\": atleast_2d(omega_0),\n        \"initial_velocity\": atleast_2d(v_0),\n        output_name: atleast_2d(simulator_signal.evolution[output_name]),\n    },\n    max_iter=100,\n)"
      ]
    },
    {
      "cell_type": "markdown",
      "metadata": {},
      "source": [
        "### The results\nFinally, we plot the results:\n\n"
      ]
    },
    {
      "cell_type": "code",
      "execution_count": null,
      "metadata": {
        "collapsed": false
      },
      "outputs": [],
      "source": [
        "p_0_opt = calibration.optimization_result.x_opt_as_dict[\"initial_position\"][0]\ntimes = linspace(t_0, t_n, num=n_nodes)\nsimulator_signal = simulator.generate(\n    times, {\"omega\": omega_0, \"position\": wrong_p_0, \"velocity\": v_0}\n)\ncalibrated_simulator_signal = calibrated_simulator.generate(\n    times, {\"omega\": omega_0, \"position\": p_0_opt, \"velocity\": v_0}\n)\nplt.plot(\n    data.times, data.evolution[\"position\"], \"-\", color=\"tab:blue\", label=\"Oscillator\"\n)\nplt.plot(\n    simulator_signal.times,\n    simulator_signal.evolution[\"position\"],\n    \"--\",\n    color=\"tab:orange\",\n    label=\"Simulator\",\n)\nplt.plot(\n    calibrated_simulator_signal.times,\n    calibrated_simulator_signal.evolution[\"position\"],\n    \"-.\",\n    color=\"tab:green\",\n    label=\"Calibrated simulator\",\n)\nplt.grid()\nplt.legend()"
      ]
    }
  ],
  "metadata": {
    "kernelspec": {
      "display_name": "Python 3",
      "language": "python",
      "name": "python3"
    },
    "language_info": {
      "codemirror_mode": {
        "name": "ipython",
        "version": 3
      },
      "file_extension": ".py",
      "mimetype": "text/x-python",
      "name": "python",
      "nbconvert_exporter": "python",
      "pygments_lexer": "ipython3",
      "version": "3.9.21"
    }
  },
  "nbformat": 4,
  "nbformat_minor": 0
}