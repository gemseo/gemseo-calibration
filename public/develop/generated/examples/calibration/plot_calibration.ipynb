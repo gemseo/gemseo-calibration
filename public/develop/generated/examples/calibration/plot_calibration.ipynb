{
  "cells": [
    {
      "cell_type": "code",
      "execution_count": null,
      "metadata": {
        "collapsed": false
      },
      "outputs": [],
      "source": [
        "%matplotlib inline"
      ]
    },
    {
      "cell_type": "markdown",
      "metadata": {},
      "source": [
        "# Calibration with 2 parameters.\n"
      ]
    },
    {
      "cell_type": "code",
      "execution_count": null,
      "metadata": {
        "collapsed": false
      },
      "outputs": [],
      "source": [
        "from __future__ import annotations\n\nfrom gemseo import sample_disciplines\nfrom gemseo.algos.design_space import DesignSpace\nfrom gemseo.algos.parameter_space import ParameterSpace\nfrom gemseo.disciplines.analytic import AnalyticDiscipline\nfrom numpy import array\n\nfrom gemseo_calibration.scenario import CalibrationMeasure\nfrom gemseo_calibration.scenario import CalibrationScenario"
      ]
    },
    {
      "cell_type": "markdown",
      "metadata": {},
      "source": [
        "Let us consider a function $f(x)=[ax,bx]$ from $\\mathbb{R}$ to $\\mathbb{R}^2$:\n\n"
      ]
    },
    {
      "cell_type": "code",
      "execution_count": null,
      "metadata": {
        "collapsed": false
      },
      "outputs": [],
      "source": [
        "model = AnalyticDiscipline({\"y\": \"a*x\", \"z\": \"b*x\"}, name=\"model\")"
      ]
    },
    {
      "cell_type": "markdown",
      "metadata": {},
      "source": [
        "This is a model of our reference data source,\nwhich a kind of oracle providing input-output data\nwithout the mathematical relationship behind it:\n\n"
      ]
    },
    {
      "cell_type": "code",
      "execution_count": null,
      "metadata": {
        "collapsed": false
      },
      "outputs": [],
      "source": [
        "reference = AnalyticDiscipline({\"y\": \"2*x\", \"z\": \"3*x\"}, name=\"reference\")"
      ]
    },
    {
      "cell_type": "markdown",
      "metadata": {},
      "source": [
        "However in this pedagogical example,\nthe mathematical relationship is known, and we can see that\nthe parameters $a$ and $b$ must be equal to 2 and 3 respectively\nso that the model and the reference are identical.\n\nIn the following,\nwe will try to find these values from several information sources.\n\n"
      ]
    },
    {
      "cell_type": "markdown",
      "metadata": {},
      "source": [
        "Firstly,\nwe have prior knowledge of the parameter values, that is $[a,b]\\in[0,10]^2$:\n\n"
      ]
    },
    {
      "cell_type": "code",
      "execution_count": null,
      "metadata": {
        "collapsed": false
      },
      "outputs": [],
      "source": [
        "prior = ParameterSpace()\nprior.add_variable(\"a\", lower_bound=0.0, upper_bound=10.0, value=0.0)\nprior.add_variable(\"b\", lower_bound=0.0, upper_bound=10.0, value=0.0)"
      ]
    },
    {
      "cell_type": "markdown",
      "metadata": {},
      "source": [
        "Secondly,\ngiven an input space $[0.,3.]$:\n\n"
      ]
    },
    {
      "cell_type": "code",
      "execution_count": null,
      "metadata": {
        "collapsed": false
      },
      "outputs": [],
      "source": [
        "input_space = DesignSpace()\ninput_space.add_variable(\"x\", lower_bound=0.0, upper_bound=3.0)"
      ]
    },
    {
      "cell_type": "markdown",
      "metadata": {},
      "source": [
        "we generate reference output data by sampling the reference discipline:\n\n"
      ]
    },
    {
      "cell_type": "code",
      "execution_count": null,
      "metadata": {
        "collapsed": false
      },
      "outputs": [],
      "source": [
        "reference_dataset = sample_disciplines(\n    [reference], input_space, [\"y\", \"z\"], \"CustomDOE\", samples=array([[1.0], [2.0]])\n)\nreference_data = reference_dataset.to_dict_of_arrays(False)"
      ]
    },
    {
      "cell_type": "markdown",
      "metadata": {},
      "source": [
        "From these information sources,\nwe can build and execute a\n[CalibrationScenario][gemseo_calibration.scenario.CalibrationScenario]\nto find the value of the parameters $a$ and $b$\nwhich minimizes a\n[CalibrationMeasure][gemseo_calibration.measure.CalibrationMeasure]\ntaking into account the outputs $y$ and $z$:\n\n"
      ]
    },
    {
      "cell_type": "code",
      "execution_count": null,
      "metadata": {
        "collapsed": false
      },
      "outputs": [],
      "source": [
        "control_outputs = [CalibrationMeasure(\"y\", \"MSE\"), CalibrationMeasure(\"z\", \"MSE\")]\ncalibration = CalibrationScenario(model, \"x\", control_outputs, prior)\ncalibration.execute(\n    algo_name=\"NLOPT_COBYLA\", reference_data=reference_data, max_iter=100\n)"
      ]
    },
    {
      "cell_type": "markdown",
      "metadata": {},
      "source": [
        "Lastly,\nwe get the calibrated parameters:\n\n"
      ]
    },
    {
      "cell_type": "code",
      "execution_count": null,
      "metadata": {
        "collapsed": false
      },
      "outputs": [],
      "source": [
        "calibration.optimization_result.x_opt"
      ]
    },
    {
      "cell_type": "markdown",
      "metadata": {},
      "source": [
        "plot an optimization history view:\n\n"
      ]
    },
    {
      "cell_type": "code",
      "execution_count": null,
      "metadata": {
        "collapsed": false
      },
      "outputs": [],
      "source": [
        "calibration.post_process(post_name=\"OptHistoryView\", save=False, show=True)"
      ]
    },
    {
      "cell_type": "markdown",
      "metadata": {},
      "source": [
        "as well as the model data versus the reference ones,\nbefore and after the calibration:\n\n"
      ]
    },
    {
      "cell_type": "code",
      "execution_count": null,
      "metadata": {
        "collapsed": false
      },
      "outputs": [],
      "source": [
        "calibration.post_process(post_name=\"DataVersusModel\", output=\"z\", save=False, show=True)"
      ]
    }
  ],
  "metadata": {
    "kernelspec": {
      "display_name": "Python 3",
      "language": "python",
      "name": "python3"
    },
    "language_info": {
      "codemirror_mode": {
        "name": "ipython",
        "version": 3
      },
      "file_extension": ".py",
      "mimetype": "text/x-python",
      "name": "python",
      "nbconvert_exporter": "python",
      "pygments_lexer": "ipython3",
      "version": "3.9.19"
    }
  },
  "nbformat": 4,
  "nbformat_minor": 0
}