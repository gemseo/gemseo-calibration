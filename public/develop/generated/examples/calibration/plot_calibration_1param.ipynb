{
  "cells": [
    {
      "cell_type": "code",
      "execution_count": null,
      "metadata": {
        "collapsed": false
      },
      "outputs": [],
      "source": [
        "%matplotlib inline"
      ]
    },
    {
      "cell_type": "markdown",
      "metadata": {},
      "source": [
        "# Calibration scenario.\n"
      ]
    },
    {
      "cell_type": "code",
      "execution_count": null,
      "metadata": {
        "collapsed": false
      },
      "outputs": [],
      "source": [
        "from __future__ import annotations\n\nfrom gemseo.algos.parameter_space import ParameterSpace\nfrom gemseo.disciplines.analytic import AnalyticDiscipline\nfrom numpy import array\n\nfrom gemseo_calibration.scenario import CalibrationMeasure\nfrom gemseo_calibration.scenario import CalibrationScenario"
      ]
    },
    {
      "cell_type": "markdown",
      "metadata": {},
      "source": [
        "Let us consider a function $f(x)=ax$\nfrom $\\mathbb{R}$ to $\\mathbb{R}$:\n\n"
      ]
    },
    {
      "cell_type": "code",
      "execution_count": null,
      "metadata": {
        "collapsed": false
      },
      "outputs": [],
      "source": [
        "model = AnalyticDiscipline({\"y\": \"a*x\"}, name=\"model\")"
      ]
    },
    {
      "cell_type": "markdown",
      "metadata": {},
      "source": [
        "This is a model of our reference data source,\nwhich a kind of oracle providing input-output data\nwithout the mathematical relationship behind it:\n\n"
      ]
    },
    {
      "cell_type": "code",
      "execution_count": null,
      "metadata": {
        "collapsed": false
      },
      "outputs": [],
      "source": [
        "reference = AnalyticDiscipline({\"y\": \"2*x\"}, name=\"reference\")"
      ]
    },
    {
      "cell_type": "markdown",
      "metadata": {},
      "source": [
        "However in this pedagogical example,\nthe mathematical relationship is known and we can see that\nthe parameter $a$ must be equal to 2\nso that the model and the reference are identical.\n\nIn the following,\nwe will try to find this value from an unique observation.\n\n"
      ]
    },
    {
      "cell_type": "markdown",
      "metadata": {},
      "source": [
        "Firstly,\nwe have a prior information about the parameters, that is $a\\in[0,10]$:\n\n"
      ]
    },
    {
      "cell_type": "code",
      "execution_count": null,
      "metadata": {
        "collapsed": false
      },
      "outputs": [],
      "source": [
        "prior = ParameterSpace()\nprior.add_variable(\"a\", l_b=0.0, u_b=10.0, value=0.0)"
      ]
    },
    {
      "cell_type": "markdown",
      "metadata": {},
      "source": [
        "Secondly,\nwe have reference output data over the input space $[0.,3.]$:\n\n"
      ]
    },
    {
      "cell_type": "code",
      "execution_count": null,
      "metadata": {
        "collapsed": false
      },
      "outputs": [],
      "source": [
        "reference.set_cache_policy(reference.CacheType.MEMORY_FULL)\nreference.execute({\"x\": array([1.0])})\nreference_data = reference.cache.to_dataset().to_dict_of_arrays(False)"
      ]
    },
    {
      "cell_type": "markdown",
      "metadata": {},
      "source": [
        "From this unique observation,\nwe can build and execute a\n[CalibrationScenario][gemseo_calibration.scenario.CalibrationScenario]\nto find the value of the parameter $a$\nwhich minimizes a\n[CalibrationMeasure][gemseo_calibration.measure.CalibrationMeasure]\ntaking into account the outputs $y$:\n\n"
      ]
    },
    {
      "cell_type": "code",
      "execution_count": null,
      "metadata": {
        "collapsed": false
      },
      "outputs": [],
      "source": [
        "calibration = CalibrationScenario(model, \"x\", CalibrationMeasure(\"y\", \"MSE\"), prior)\ncalibration.execute({\n    \"algo\": \"NLOPT_COBYLA\",\n    \"reference_data\": reference_data,\n    \"max_iter\": 100,\n})"
      ]
    },
    {
      "cell_type": "markdown",
      "metadata": {},
      "source": [
        "Lastly,\nwe get the calibrated parameters:\n\n"
      ]
    },
    {
      "cell_type": "markdown",
      "metadata": {},
      "source": [
        "plot an optimization history view:\n\n"
      ]
    },
    {
      "cell_type": "code",
      "execution_count": null,
      "metadata": {
        "collapsed": false
      },
      "outputs": [],
      "source": [
        "calibration.post_process(\"OptHistoryView\", save=False, show=True)"
      ]
    },
    {
      "cell_type": "markdown",
      "metadata": {},
      "source": [
        "as well as the model data versus the reference ones,\nbefore and after the calibration:\n\n"
      ]
    },
    {
      "cell_type": "code",
      "execution_count": null,
      "metadata": {
        "collapsed": false
      },
      "outputs": [],
      "source": [
        "calibration.post_process(\"DataVersusModel\", output=\"y\", save=False, show=True)"
      ]
    }
  ],
  "metadata": {
    "kernelspec": {
      "display_name": "Python 3",
      "language": "python",
      "name": "python3"
    },
    "language_info": {
      "codemirror_mode": {
        "name": "ipython",
        "version": 3
      },
      "file_extension": ".py",
      "mimetype": "text/x-python",
      "name": "python",
      "nbconvert_exporter": "python",
      "pygments_lexer": "ipython3",
      "version": "3.9.16"
    }
  },
  "nbformat": 4,
  "nbformat_minor": 0
}